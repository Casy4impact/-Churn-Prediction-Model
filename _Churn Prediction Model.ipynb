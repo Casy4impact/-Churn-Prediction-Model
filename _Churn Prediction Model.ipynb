{
 "cells": [
  {
   "cell_type": "markdown",
   "id": "30c242d5",
   "metadata": {},
   "source": [
    "## Phase 1 \n",
    "- Preparing and Processing Data for Visualisation \n",
    "\n",
    "## Data Preprocessing\n",
    "- We have identified data issues like redundant data will be dropped \n",
    "- we will then encode the categorical features in the data \n",
    "- Scale the dataset\n",
    "- Plot a feature importance visualisation, to understandant features that may be important predictor features from the dataset \n"
   ]
  },
  {
   "cell_type": "code",
   "execution_count": 50,
   "id": "fef21df4",
   "metadata": {},
   "outputs": [],
   "source": [
    "# importing required libraries \n",
    "import pandas as pd\n",
    "import numpy as np\n",
    "import matplotlib.pyplot as plt\n",
    "import seaborn as sns"
   ]
  },
  {
   "cell_type": "code",
   "execution_count": 51,
   "id": "55ec328b",
   "metadata": {},
   "outputs": [
    {
     "data": {
      "text/html": [
       "<div>\n",
       "<style scoped>\n",
       "    .dataframe tbody tr th:only-of-type {\n",
       "        vertical-align: middle;\n",
       "    }\n",
       "\n",
       "    .dataframe tbody tr th {\n",
       "        vertical-align: top;\n",
       "    }\n",
       "\n",
       "    .dataframe thead th {\n",
       "        text-align: right;\n",
       "    }\n",
       "</style>\n",
       "<table border=\"1\" class=\"dataframe\">\n",
       "  <thead>\n",
       "    <tr style=\"text-align: right;\">\n",
       "      <th></th>\n",
       "      <th>ID</th>\n",
       "      <th>label</th>\n",
       "      <th>sessions</th>\n",
       "      <th>drives</th>\n",
       "      <th>total_sessions</th>\n",
       "      <th>n_days_after_onboarding</th>\n",
       "      <th>total_navigations_fav1</th>\n",
       "      <th>total_navigations_fav2</th>\n",
       "      <th>driven_km_drives</th>\n",
       "      <th>duration_minutes_drives</th>\n",
       "      <th>activity_days</th>\n",
       "      <th>driving_days</th>\n",
       "      <th>device</th>\n",
       "    </tr>\n",
       "  </thead>\n",
       "  <tbody>\n",
       "    <tr>\n",
       "      <th>0</th>\n",
       "      <td>0</td>\n",
       "      <td>retained</td>\n",
       "      <td>283</td>\n",
       "      <td>226</td>\n",
       "      <td>296.748273</td>\n",
       "      <td>2276</td>\n",
       "      <td>208</td>\n",
       "      <td>0</td>\n",
       "      <td>2628.845068</td>\n",
       "      <td>1985.775061</td>\n",
       "      <td>28</td>\n",
       "      <td>19</td>\n",
       "      <td>Android</td>\n",
       "    </tr>\n",
       "    <tr>\n",
       "      <th>1</th>\n",
       "      <td>1</td>\n",
       "      <td>retained</td>\n",
       "      <td>133</td>\n",
       "      <td>107</td>\n",
       "      <td>326.896596</td>\n",
       "      <td>1225</td>\n",
       "      <td>19</td>\n",
       "      <td>64</td>\n",
       "      <td>13715.920550</td>\n",
       "      <td>3160.472914</td>\n",
       "      <td>13</td>\n",
       "      <td>11</td>\n",
       "      <td>iPhone</td>\n",
       "    </tr>\n",
       "    <tr>\n",
       "      <th>2</th>\n",
       "      <td>2</td>\n",
       "      <td>retained</td>\n",
       "      <td>114</td>\n",
       "      <td>95</td>\n",
       "      <td>135.522926</td>\n",
       "      <td>2651</td>\n",
       "      <td>0</td>\n",
       "      <td>0</td>\n",
       "      <td>3059.148818</td>\n",
       "      <td>1610.735904</td>\n",
       "      <td>14</td>\n",
       "      <td>8</td>\n",
       "      <td>Android</td>\n",
       "    </tr>\n",
       "    <tr>\n",
       "      <th>3</th>\n",
       "      <td>3</td>\n",
       "      <td>retained</td>\n",
       "      <td>49</td>\n",
       "      <td>40</td>\n",
       "      <td>67.589221</td>\n",
       "      <td>15</td>\n",
       "      <td>322</td>\n",
       "      <td>7</td>\n",
       "      <td>913.591123</td>\n",
       "      <td>587.196542</td>\n",
       "      <td>7</td>\n",
       "      <td>3</td>\n",
       "      <td>iPhone</td>\n",
       "    </tr>\n",
       "    <tr>\n",
       "      <th>4</th>\n",
       "      <td>4</td>\n",
       "      <td>retained</td>\n",
       "      <td>84</td>\n",
       "      <td>68</td>\n",
       "      <td>168.247020</td>\n",
       "      <td>1562</td>\n",
       "      <td>166</td>\n",
       "      <td>5</td>\n",
       "      <td>3950.202008</td>\n",
       "      <td>1219.555924</td>\n",
       "      <td>27</td>\n",
       "      <td>18</td>\n",
       "      <td>Android</td>\n",
       "    </tr>\n",
       "  </tbody>\n",
       "</table>\n",
       "</div>"
      ],
      "text/plain": [
       "   ID     label  sessions  drives  total_sessions  n_days_after_onboarding  \\\n",
       "0   0  retained       283     226      296.748273                     2276   \n",
       "1   1  retained       133     107      326.896596                     1225   \n",
       "2   2  retained       114      95      135.522926                     2651   \n",
       "3   3  retained        49      40       67.589221                       15   \n",
       "4   4  retained        84      68      168.247020                     1562   \n",
       "\n",
       "   total_navigations_fav1  total_navigations_fav2  driven_km_drives  \\\n",
       "0                     208                       0       2628.845068   \n",
       "1                      19                      64      13715.920550   \n",
       "2                       0                       0       3059.148818   \n",
       "3                     322                       7        913.591123   \n",
       "4                     166                       5       3950.202008   \n",
       "\n",
       "   duration_minutes_drives  activity_days  driving_days   device  \n",
       "0              1985.775061             28            19  Android  \n",
       "1              3160.472914             13            11   iPhone  \n",
       "2              1610.735904             14             8  Android  \n",
       "3               587.196542              7             3   iPhone  \n",
       "4              1219.555924             27            18  Android  "
      ]
     },
     "execution_count": 51,
     "metadata": {},
     "output_type": "execute_result"
    }
   ],
   "source": [
    "# Load dataset\n",
    "data = pd.read_csv(r\"C:\\Users\\hp\\Desktop\\10Alytics\\Python\\Machine Learning\\ML Supervised Learning WMDIV 22-10-23\\Supervised ML live class 21 10 23\\waze_dataset.csv\")\n",
    "data.head()"
   ]
  },
  {
   "cell_type": "code",
   "execution_count": 52,
   "id": "498505f9",
   "metadata": {},
   "outputs": [
    {
     "data": {
      "text/html": [
       "<div>\n",
       "<style scoped>\n",
       "    .dataframe tbody tr th:only-of-type {\n",
       "        vertical-align: middle;\n",
       "    }\n",
       "\n",
       "    .dataframe tbody tr th {\n",
       "        vertical-align: top;\n",
       "    }\n",
       "\n",
       "    .dataframe thead th {\n",
       "        text-align: right;\n",
       "    }\n",
       "</style>\n",
       "<table border=\"1\" class=\"dataframe\">\n",
       "  <thead>\n",
       "    <tr style=\"text-align: right;\">\n",
       "      <th></th>\n",
       "      <th>count</th>\n",
       "      <th>mean</th>\n",
       "      <th>std</th>\n",
       "      <th>min</th>\n",
       "      <th>25%</th>\n",
       "      <th>50%</th>\n",
       "      <th>75%</th>\n",
       "      <th>max</th>\n",
       "    </tr>\n",
       "  </thead>\n",
       "  <tbody>\n",
       "    <tr>\n",
       "      <th>ID</th>\n",
       "      <td>14999.0</td>\n",
       "      <td>7499.000000</td>\n",
       "      <td>4329.982679</td>\n",
       "      <td>0.000000</td>\n",
       "      <td>3749.500000</td>\n",
       "      <td>7499.000000</td>\n",
       "      <td>11248.500000</td>\n",
       "      <td>14998.000000</td>\n",
       "    </tr>\n",
       "    <tr>\n",
       "      <th>sessions</th>\n",
       "      <td>14999.0</td>\n",
       "      <td>80.633776</td>\n",
       "      <td>80.699065</td>\n",
       "      <td>0.000000</td>\n",
       "      <td>23.000000</td>\n",
       "      <td>56.000000</td>\n",
       "      <td>112.000000</td>\n",
       "      <td>743.000000</td>\n",
       "    </tr>\n",
       "    <tr>\n",
       "      <th>drives</th>\n",
       "      <td>14999.0</td>\n",
       "      <td>67.281152</td>\n",
       "      <td>65.913872</td>\n",
       "      <td>0.000000</td>\n",
       "      <td>20.000000</td>\n",
       "      <td>48.000000</td>\n",
       "      <td>93.000000</td>\n",
       "      <td>596.000000</td>\n",
       "    </tr>\n",
       "    <tr>\n",
       "      <th>total_sessions</th>\n",
       "      <td>14999.0</td>\n",
       "      <td>189.964447</td>\n",
       "      <td>136.405128</td>\n",
       "      <td>0.220211</td>\n",
       "      <td>90.661156</td>\n",
       "      <td>159.568115</td>\n",
       "      <td>254.192341</td>\n",
       "      <td>1216.154633</td>\n",
       "    </tr>\n",
       "    <tr>\n",
       "      <th>n_days_after_onboarding</th>\n",
       "      <td>14999.0</td>\n",
       "      <td>1749.837789</td>\n",
       "      <td>1008.513876</td>\n",
       "      <td>4.000000</td>\n",
       "      <td>878.000000</td>\n",
       "      <td>1741.000000</td>\n",
       "      <td>2623.500000</td>\n",
       "      <td>3500.000000</td>\n",
       "    </tr>\n",
       "    <tr>\n",
       "      <th>total_navigations_fav1</th>\n",
       "      <td>14999.0</td>\n",
       "      <td>121.605974</td>\n",
       "      <td>148.121544</td>\n",
       "      <td>0.000000</td>\n",
       "      <td>9.000000</td>\n",
       "      <td>71.000000</td>\n",
       "      <td>178.000000</td>\n",
       "      <td>1236.000000</td>\n",
       "    </tr>\n",
       "    <tr>\n",
       "      <th>total_navigations_fav2</th>\n",
       "      <td>14999.0</td>\n",
       "      <td>29.672512</td>\n",
       "      <td>45.394651</td>\n",
       "      <td>0.000000</td>\n",
       "      <td>0.000000</td>\n",
       "      <td>9.000000</td>\n",
       "      <td>43.000000</td>\n",
       "      <td>415.000000</td>\n",
       "    </tr>\n",
       "    <tr>\n",
       "      <th>driven_km_drives</th>\n",
       "      <td>14999.0</td>\n",
       "      <td>4039.340921</td>\n",
       "      <td>2502.149334</td>\n",
       "      <td>60.441250</td>\n",
       "      <td>2212.600607</td>\n",
       "      <td>3493.858085</td>\n",
       "      <td>5289.861262</td>\n",
       "      <td>21183.401890</td>\n",
       "    </tr>\n",
       "    <tr>\n",
       "      <th>duration_minutes_drives</th>\n",
       "      <td>14999.0</td>\n",
       "      <td>1860.976012</td>\n",
       "      <td>1446.702288</td>\n",
       "      <td>18.282082</td>\n",
       "      <td>835.996260</td>\n",
       "      <td>1478.249859</td>\n",
       "      <td>2464.362632</td>\n",
       "      <td>15851.727160</td>\n",
       "    </tr>\n",
       "    <tr>\n",
       "      <th>activity_days</th>\n",
       "      <td>14999.0</td>\n",
       "      <td>15.537102</td>\n",
       "      <td>9.004655</td>\n",
       "      <td>0.000000</td>\n",
       "      <td>8.000000</td>\n",
       "      <td>16.000000</td>\n",
       "      <td>23.000000</td>\n",
       "      <td>31.000000</td>\n",
       "    </tr>\n",
       "    <tr>\n",
       "      <th>driving_days</th>\n",
       "      <td>14999.0</td>\n",
       "      <td>12.179879</td>\n",
       "      <td>7.824036</td>\n",
       "      <td>0.000000</td>\n",
       "      <td>5.000000</td>\n",
       "      <td>12.000000</td>\n",
       "      <td>19.000000</td>\n",
       "      <td>30.000000</td>\n",
       "    </tr>\n",
       "  </tbody>\n",
       "</table>\n",
       "</div>"
      ],
      "text/plain": [
       "                           count         mean          std        min  \\\n",
       "ID                       14999.0  7499.000000  4329.982679   0.000000   \n",
       "sessions                 14999.0    80.633776    80.699065   0.000000   \n",
       "drives                   14999.0    67.281152    65.913872   0.000000   \n",
       "total_sessions           14999.0   189.964447   136.405128   0.220211   \n",
       "n_days_after_onboarding  14999.0  1749.837789  1008.513876   4.000000   \n",
       "total_navigations_fav1   14999.0   121.605974   148.121544   0.000000   \n",
       "total_navigations_fav2   14999.0    29.672512    45.394651   0.000000   \n",
       "driven_km_drives         14999.0  4039.340921  2502.149334  60.441250   \n",
       "duration_minutes_drives  14999.0  1860.976012  1446.702288  18.282082   \n",
       "activity_days            14999.0    15.537102     9.004655   0.000000   \n",
       "driving_days             14999.0    12.179879     7.824036   0.000000   \n",
       "\n",
       "                                 25%          50%           75%           max  \n",
       "ID                       3749.500000  7499.000000  11248.500000  14998.000000  \n",
       "sessions                   23.000000    56.000000    112.000000    743.000000  \n",
       "drives                     20.000000    48.000000     93.000000    596.000000  \n",
       "total_sessions             90.661156   159.568115    254.192341   1216.154633  \n",
       "n_days_after_onboarding   878.000000  1741.000000   2623.500000   3500.000000  \n",
       "total_navigations_fav1      9.000000    71.000000    178.000000   1236.000000  \n",
       "total_navigations_fav2      0.000000     9.000000     43.000000    415.000000  \n",
       "driven_km_drives         2212.600607  3493.858085   5289.861262  21183.401890  \n",
       "duration_minutes_drives   835.996260  1478.249859   2464.362632  15851.727160  \n",
       "activity_days               8.000000    16.000000     23.000000     31.000000  \n",
       "driving_days                5.000000    12.000000     19.000000     30.000000  "
      ]
     },
     "execution_count": 52,
     "metadata": {},
     "output_type": "execute_result"
    }
   ],
   "source": [
    "# Statistical description of the data\n",
    "data.describe().T"
   ]
  },
  {
   "cell_type": "code",
   "execution_count": 53,
   "id": "d39a97cb",
   "metadata": {},
   "outputs": [
    {
     "name": "stdout",
     "output_type": "stream",
     "text": [
      "<class 'pandas.core.frame.DataFrame'>\n",
      "RangeIndex: 14999 entries, 0 to 14998\n",
      "Data columns (total 13 columns):\n",
      " #   Column                   Non-Null Count  Dtype  \n",
      "---  ------                   --------------  -----  \n",
      " 0   ID                       14999 non-null  int64  \n",
      " 1   label                    14299 non-null  object \n",
      " 2   sessions                 14999 non-null  int64  \n",
      " 3   drives                   14999 non-null  int64  \n",
      " 4   total_sessions           14999 non-null  float64\n",
      " 5   n_days_after_onboarding  14999 non-null  int64  \n",
      " 6   total_navigations_fav1   14999 non-null  int64  \n",
      " 7   total_navigations_fav2   14999 non-null  int64  \n",
      " 8   driven_km_drives         14999 non-null  float64\n",
      " 9   duration_minutes_drives  14999 non-null  float64\n",
      " 10  activity_days            14999 non-null  int64  \n",
      " 11  driving_days             14999 non-null  int64  \n",
      " 12  device                   14999 non-null  object \n",
      "dtypes: float64(3), int64(8), object(2)\n",
      "memory usage: 1.5+ MB\n"
     ]
    }
   ],
   "source": [
    "data.info()"
   ]
  },
  {
   "cell_type": "code",
   "execution_count": 54,
   "id": "a4f68ea6",
   "metadata": {},
   "outputs": [
    {
     "data": {
      "text/html": [
       "<div>\n",
       "<style scoped>\n",
       "    .dataframe tbody tr th:only-of-type {\n",
       "        vertical-align: middle;\n",
       "    }\n",
       "\n",
       "    .dataframe tbody tr th {\n",
       "        vertical-align: top;\n",
       "    }\n",
       "\n",
       "    .dataframe thead th {\n",
       "        text-align: right;\n",
       "    }\n",
       "</style>\n",
       "<table border=\"1\" class=\"dataframe\">\n",
       "  <thead>\n",
       "    <tr style=\"text-align: right;\">\n",
       "      <th></th>\n",
       "      <th>count</th>\n",
       "      <th>unique</th>\n",
       "      <th>top</th>\n",
       "      <th>freq</th>\n",
       "    </tr>\n",
       "  </thead>\n",
       "  <tbody>\n",
       "    <tr>\n",
       "      <th>label</th>\n",
       "      <td>14299</td>\n",
       "      <td>2</td>\n",
       "      <td>retained</td>\n",
       "      <td>11763</td>\n",
       "    </tr>\n",
       "    <tr>\n",
       "      <th>device</th>\n",
       "      <td>14999</td>\n",
       "      <td>2</td>\n",
       "      <td>iPhone</td>\n",
       "      <td>9672</td>\n",
       "    </tr>\n",
       "  </tbody>\n",
       "</table>\n",
       "</div>"
      ],
      "text/plain": [
       "        count unique       top   freq\n",
       "label   14299      2  retained  11763\n",
       "device  14999      2    iPhone   9672"
      ]
     },
     "execution_count": 54,
     "metadata": {},
     "output_type": "execute_result"
    }
   ],
   "source": [
    "data.describe(include = [object]).T"
   ]
  },
  {
   "cell_type": "code",
   "execution_count": 55,
   "id": "761b3184",
   "metadata": {},
   "outputs": [
    {
     "data": {
      "text/plain": [
       "array(['retained', 'churned', nan], dtype=object)"
      ]
     },
     "execution_count": 55,
     "metadata": {},
     "output_type": "execute_result"
    }
   ],
   "source": [
    "data['label'].unique()"
   ]
  },
  {
   "cell_type": "code",
   "execution_count": 56,
   "id": "e26cbba7",
   "metadata": {},
   "outputs": [
    {
     "data": {
      "text/plain": [
       "retained    11763\n",
       "churned      2536\n",
       "Name: label, dtype: int64"
      ]
     },
     "execution_count": 56,
     "metadata": {},
     "output_type": "execute_result"
    }
   ],
   "source": [
    "data['label'].value_counts()"
   ]
  },
  {
   "cell_type": "code",
   "execution_count": 57,
   "id": "e3c598d1",
   "metadata": {},
   "outputs": [
    {
     "data": {
      "text/plain": [
       "0"
      ]
     },
     "execution_count": 57,
     "metadata": {},
     "output_type": "execute_result"
    }
   ],
   "source": [
    "data.duplicated().sum()"
   ]
  },
  {
   "cell_type": "code",
   "execution_count": 58,
   "id": "a5b75f82",
   "metadata": {},
   "outputs": [
    {
     "data": {
      "text/plain": [
       "ID                           0\n",
       "label                      700\n",
       "sessions                     0\n",
       "drives                       0\n",
       "total_sessions               0\n",
       "n_days_after_onboarding      0\n",
       "total_navigations_fav1       0\n",
       "total_navigations_fav2       0\n",
       "driven_km_drives             0\n",
       "duration_minutes_drives      0\n",
       "activity_days                0\n",
       "driving_days                 0\n",
       "device                       0\n",
       "dtype: int64"
      ]
     },
     "execution_count": 58,
     "metadata": {},
     "output_type": "execute_result"
    }
   ],
   "source": [
    "data.isna().sum()"
   ]
  },
  {
   "cell_type": "code",
   "execution_count": 59,
   "id": "02018d38",
   "metadata": {},
   "outputs": [
    {
     "data": {
      "text/plain": [
       "count        14299\n",
       "unique           2\n",
       "top       retained\n",
       "freq         11763\n",
       "Name: label, dtype: object"
      ]
     },
     "execution_count": 59,
     "metadata": {},
     "output_type": "execute_result"
    }
   ],
   "source": [
    "# Exploring the target variable\n",
    "data['label'].describe()"
   ]
  },
  {
   "cell_type": "code",
   "execution_count": 60,
   "id": "3d0e04d7",
   "metadata": {},
   "outputs": [
    {
     "data": {
      "text/plain": [
       "<Axes: ylabel='label'>"
      ]
     },
     "execution_count": 60,
     "metadata": {},
     "output_type": "execute_result"
    },
    {
     "data": {
      "image/png": "[encoded data removed]",
      "text/plain": [
       "<Figure size 640x480 with 1 Axes>"
      ]
     },
     "metadata": {},
     "output_type": "display_data"
    }
   ],
   "source": [
    "data['label'].value_counts().plot(kind = 'pie')"
   ]
  },
  {
   "cell_type": "code",
   "execution_count": 61,
   "id": "4f81ec61",
   "metadata": {},
   "outputs": [
    {
     "data": {
      "image/png": "[encoded data removed]",
      "text/plain": [
       "<Figure size 500x100 with 1 Axes>"
      ]
     },
     "metadata": {},
     "output_type": "display_data"
    },
    {
     "data": {
      "image/png": "[encoded data removed]",
      "text/plain": [
       "<Figure size 500x300 with 1 Axes>"
      ]
     },
     "metadata": {},
     "output_type": "display_data"
    }
   ],
   "source": [
    "plt.figure(figsize =(5,1))\n",
    "g = sns.boxplot(data = data, x = 'driven_km_drives')\n",
    "plt.title('Total Kilometers Driver')\n",
    "plt.show()\n",
    "\n",
    "plt.figure(figsize = (5,3))\n",
    "plt.hist(data['driven_km_drives'])\n",
    "plt.xlabel('Total Kilometres Driven')\n",
    "plt.ylabel('Count')\n",
    "plt.title('Histogram')\n",
    "\n",
    "\n",
    "median = data['driven_km_drives'].median()\n",
    "plt.axvline(median, color = 'yellow', linestyle = '--')\n",
    "plt.text(5000, 5000, 'median =' +str(median), color = 'black')\n",
    "plt.show()"
   ]
  },
  {
   "cell_type": "code",
   "execution_count": 62,
   "id": "901be7d9",
   "metadata": {},
   "outputs": [],
   "source": [
    "# Drop missing data points  \n",
    "data.dropna(inplace = True)"
   ]
  },
  {
   "cell_type": "code",
   "execution_count": 63,
   "id": "844d1621",
   "metadata": {},
   "outputs": [
    {
     "data": {
      "text/plain": [
       "ID                         0\n",
       "label                      0\n",
       "sessions                   0\n",
       "drives                     0\n",
       "total_sessions             0\n",
       "n_days_after_onboarding    0\n",
       "total_navigations_fav1     0\n",
       "total_navigations_fav2     0\n",
       "driven_km_drives           0\n",
       "duration_minutes_drives    0\n",
       "activity_days              0\n",
       "driving_days               0\n",
       "device                     0\n",
       "dtype: int64"
      ]
     },
     "execution_count": 63,
     "metadata": {},
     "output_type": "execute_result"
    }
   ],
   "source": [
    "data.isna().sum()"
   ]
  },
  {
   "cell_type": "code",
   "execution_count": 64,
   "id": "bc81369e",
   "metadata": {},
   "outputs": [],
   "source": [
    "# segment dataset\n",
    "y = data.pop('label')\n"
   ]
  },
  {
   "cell_type": "code",
   "execution_count": 65,
   "id": "6c1cd6f2",
   "metadata": {},
   "outputs": [
    {
     "data": {
      "text/html": [
       "<div>\n",
       "<style scoped>\n",
       "    .dataframe tbody tr th:only-of-type {\n",
       "        vertical-align: middle;\n",
       "    }\n",
       "\n",
       "    .dataframe tbody tr th {\n",
       "        vertical-align: top;\n",
       "    }\n",
       "\n",
       "    .dataframe thead th {\n",
       "        text-align: right;\n",
       "    }\n",
       "</style>\n",
       "<table border=\"1\" class=\"dataframe\">\n",
       "  <thead>\n",
       "    <tr style=\"text-align: right;\">\n",
       "      <th></th>\n",
       "      <th>ID</th>\n",
       "      <th>sessions</th>\n",
       "      <th>drives</th>\n",
       "      <th>total_sessions</th>\n",
       "      <th>n_days_after_onboarding</th>\n",
       "      <th>total_navigations_fav1</th>\n",
       "      <th>total_navigations_fav2</th>\n",
       "      <th>driven_km_drives</th>\n",
       "      <th>duration_minutes_drives</th>\n",
       "      <th>activity_days</th>\n",
       "      <th>driving_days</th>\n",
       "      <th>device_iPhone</th>\n",
       "    </tr>\n",
       "  </thead>\n",
       "  <tbody>\n",
       "    <tr>\n",
       "      <th>0</th>\n",
       "      <td>0</td>\n",
       "      <td>283</td>\n",
       "      <td>226</td>\n",
       "      <td>296.748273</td>\n",
       "      <td>2276</td>\n",
       "      <td>208</td>\n",
       "      <td>0</td>\n",
       "      <td>2628.845068</td>\n",
       "      <td>1985.775061</td>\n",
       "      <td>28</td>\n",
       "      <td>19</td>\n",
       "      <td>0</td>\n",
       "    </tr>\n",
       "    <tr>\n",
       "      <th>1</th>\n",
       "      <td>1</td>\n",
       "      <td>133</td>\n",
       "      <td>107</td>\n",
       "      <td>326.896596</td>\n",
       "      <td>1225</td>\n",
       "      <td>19</td>\n",
       "      <td>64</td>\n",
       "      <td>13715.920550</td>\n",
       "      <td>3160.472914</td>\n",
       "      <td>13</td>\n",
       "      <td>11</td>\n",
       "      <td>1</td>\n",
       "    </tr>\n",
       "  </tbody>\n",
       "</table>\n",
       "</div>"
      ],
      "text/plain": [
       "   ID  sessions  drives  total_sessions  n_days_after_onboarding  \\\n",
       "0   0       283     226      296.748273                     2276   \n",
       "1   1       133     107      326.896596                     1225   \n",
       "\n",
       "   total_navigations_fav1  total_navigations_fav2  driven_km_drives  \\\n",
       "0                     208                       0       2628.845068   \n",
       "1                      19                      64      13715.920550   \n",
       "\n",
       "   duration_minutes_drives  activity_days  driving_days  device_iPhone  \n",
       "0              1985.775061             28            19              0  \n",
       "1              3160.472914             13            11              1  "
      ]
     },
     "execution_count": 65,
     "metadata": {},
     "output_type": "execute_result"
    }
   ],
   "source": [
    "#variable encoding using one hot encoding \n",
    "\n",
    "data = pd.get_dummies(data, drop_first=True)\n",
    "data.head(2)"
   ]
  },
  {
   "cell_type": "code",
   "execution_count": 66,
   "id": "8b17119d",
   "metadata": {},
   "outputs": [],
   "source": [
    "# dropping the reduntant data features\n",
    "data.drop('ID', axis =1, inplace = True)"
   ]
  },
  {
   "cell_type": "markdown",
   "id": "86b516b6",
   "metadata": {},
   "source": [
    "## key Observations \n",
    "- Missing data points in the lebel column were dropped\n",
    "- No duplicates\n",
    "- This is churn prediction model\n",
    "- from our observation of our target label we can see that the data set is imbalanced\n",
    "- from the observing the distribution of the total kilometers driven feature, can see the presence of outliers\n",
    "- distribution is positely skewed"
   ]
  },
  {
   "cell_type": "code",
   "execution_count": 67,
   "id": "d76133e5",
   "metadata": {},
   "outputs": [
    {
     "data": {
      "text/html": [
       "<div>\n",
       "<style scoped>\n",
       "    .dataframe tbody tr th:only-of-type {\n",
       "        vertical-align: middle;\n",
       "    }\n",
       "\n",
       "    .dataframe tbody tr th {\n",
       "        vertical-align: top;\n",
       "    }\n",
       "\n",
       "    .dataframe thead th {\n",
       "        text-align: right;\n",
       "    }\n",
       "</style>\n",
       "<table border=\"1\" class=\"dataframe\">\n",
       "  <thead>\n",
       "    <tr style=\"text-align: right;\">\n",
       "      <th></th>\n",
       "      <th>sessions</th>\n",
       "      <th>drives</th>\n",
       "      <th>total_sessions</th>\n",
       "      <th>n_days_after_onboarding</th>\n",
       "      <th>total_navigations_fav1</th>\n",
       "      <th>total_navigations_fav2</th>\n",
       "      <th>driven_km_drives</th>\n",
       "      <th>duration_minutes_drives</th>\n",
       "      <th>activity_days</th>\n",
       "      <th>driving_days</th>\n",
       "      <th>device_iPhone</th>\n",
       "    </tr>\n",
       "  </thead>\n",
       "  <tbody>\n",
       "    <tr>\n",
       "      <th>0</th>\n",
       "      <td>0.380888</td>\n",
       "      <td>0.379195</td>\n",
       "      <td>0.243868</td>\n",
       "      <td>0.649886</td>\n",
       "      <td>0.168285</td>\n",
       "      <td>0.000000</td>\n",
       "      <td>0.121593</td>\n",
       "      <td>0.124262</td>\n",
       "      <td>0.903226</td>\n",
       "      <td>0.633333</td>\n",
       "      <td>0.0</td>\n",
       "    </tr>\n",
       "    <tr>\n",
       "      <th>1</th>\n",
       "      <td>0.179004</td>\n",
       "      <td>0.179530</td>\n",
       "      <td>0.268663</td>\n",
       "      <td>0.349256</td>\n",
       "      <td>0.015372</td>\n",
       "      <td>0.154217</td>\n",
       "      <td>0.646476</td>\n",
       "      <td>0.198453</td>\n",
       "      <td>0.419355</td>\n",
       "      <td>0.366667</td>\n",
       "      <td>1.0</td>\n",
       "    </tr>\n",
       "  </tbody>\n",
       "</table>\n",
       "</div>"
      ],
      "text/plain": [
       "   sessions    drives  total_sessions  n_days_after_onboarding  \\\n",
       "0  0.380888  0.379195        0.243868                 0.649886   \n",
       "1  0.179004  0.179530        0.268663                 0.349256   \n",
       "\n",
       "   total_navigations_fav1  total_navigations_fav2  driven_km_drives  \\\n",
       "0                0.168285                0.000000          0.121593   \n",
       "1                0.015372                0.154217          0.646476   \n",
       "\n",
       "   duration_minutes_drives  activity_days  driving_days  device_iPhone  \n",
       "0                 0.124262       0.903226      0.633333            0.0  \n",
       "1                 0.198453       0.419355      0.366667            1.0  "
      ]
     },
     "execution_count": 67,
     "metadata": {},
     "output_type": "execute_result"
    }
   ],
   "source": [
    "#data nomalisation\n",
    "from sklearn.preprocessing import MinMaxScaler, RobustScaler\n",
    "\n",
    "# Instantaite scaler\n",
    "scaler = MinMaxScaler()\n",
    "df_scaled = pd.DataFrame(scaler.fit_transform(data), columns = data.columns)\n",
    "df_scaled.head(2)"
   ]
  },
  {
   "cell_type": "code",
   "execution_count": 68,
   "id": "c50600f7",
   "metadata": {},
   "outputs": [
    {
     "data": {
      "image/png": "[encoded data removed]",
      "text/plain": [
       "<Figure size 1000x700 with 1 Axes>"
      ]
     },
     "metadata": {},
     "output_type": "display_data"
    }
   ],
   "source": [
    "#identify the key predictor features in the dataset\n",
    "\n",
    "from sklearn.ensemble import RandomForestClassifier \n",
    "import matplotlib.pyplot as plt\n",
    "\n",
    "# Instantiated the randomregressor model\n",
    "feat_model = RandomForestClassifier()\n",
    "\n",
    "# fits model\n",
    "feat_model.fit(df_scaled, y)\n",
    "\n",
    "feature_names = list(df_scaled.columns)\n",
    "importance = feat_model.feature_importances_\n",
    "indices = np.argsort(importance)\n",
    "\n",
    "plt.figure(figsize = (10,7))\n",
    "plt.barh(range(len(indices)), importance[indices], color = 'green', align = 'center')\n",
    "plt.yticks(range(len(indices)),[feature_names[i] for i in indices])\n",
    "plt.xlabel('Relative importance chart')\n",
    "\n",
    "\n",
    "# Add value labels to the bars\n",
    "for i in range(len(indices)):\n",
    "    plt.text(importance[indices][i], i, f'{importance[indices][i]:.2f}', ha='left', va='center')\n",
    "\n",
    "plt.show()\n"
   ]
  },
  {
   "cell_type": "markdown",
   "id": "3d1a0e76",
   "metadata": {},
   "source": [
    "## Observations\n",
    "- The relative importance chart displays the predictive variables (in order of importance) with predictive power\n",
    "- From the chart, n_days_after_onboarding (The number of days since a user sign up for the app) has the highest predictive power while device_iphone has the least predictive power\n",
    "\n",
    "\n",
    "For churn prediction, user behavior indicators such as engagement frequency, duration, and specific preferences are more crucial than the type of device used. The model suggests that long-term, engaged users who actively use the app for its intended purpose are less likely to churn."
   ]
  },
  {
   "cell_type": "markdown",
   "id": "10ee3c5b",
   "metadata": {},
   "source": [
    "## Phase 2\n",
    "- Splitting data into training and evaluation datasets\n",
    "- Implimenting Manchine Learning/model Building and Training\n",
    "- creating a predictions file "
   ]
  },
  {
   "cell_type": "code",
   "execution_count": 69,
   "id": "cd8a44e2",
   "metadata": {},
   "outputs": [],
   "source": [
    "# split data into training and evaluation sets\n",
    "from sklearn.model_selection import train_test_split\n",
    "\n",
    "x_train, x_test, y_train, y_test = train_test_split(df_scaled, y, test_size = 0.3, random_state = 1)\n",
    "\n",
    "# x_train will contain the training feature data.\n",
    "# x_test will contain the evaluation (test) feature data.\n",
    "# y_train will contain the training target data.\n",
    "# y_test will contain the evaluation (test) target data."
   ]
  },
  {
   "cell_type": "code",
   "execution_count": 70,
   "id": "ef419048",
   "metadata": {},
   "outputs": [
    {
     "data": {
      "text/plain": [
       "((10009, 11), (4290, 11), (10009,), (4290,))"
      ]
     },
     "execution_count": 70,
     "metadata": {},
     "output_type": "execute_result"
    }
   ],
   "source": [
    "x_train.shape, x_test.shape, y_train.shape,  y_test.shape"
   ]
  },
  {
   "cell_type": "code",
   "execution_count": 71,
   "id": "5535ba1f",
   "metadata": {},
   "outputs": [],
   "source": [
    "# importing predictive models \n",
    "from sklearn.linear_model import LogisticRegression \n",
    "from sklearn.tree import DecisionTreeClassifier\n",
    "from sklearn.ensemble import GradientBoostingClassifier"
   ]
  },
  {
   "cell_type": "code",
   "execution_count": 72,
   "id": "b5d00e62",
   "metadata": {},
   "outputs": [],
   "source": [
    "# intantiating models \n",
    "log_reg = LogisticRegression()\n",
    "dec_tree = DecisionTreeClassifier()\n",
    "gb_clf= GradientBoostingClassifier() # Gradient boosting is an ensemble learning technique that combines multiple weak models (typically decision trees) to create a stronger predictive model."
   ]
  },
  {
   "cell_type": "code",
   "execution_count": 73,
   "id": "5a87c2d6",
   "metadata": {},
   "outputs": [
    {
     "data": {
      "text/html": [
       "<style>#sk-container-id-2 {color: black;}#sk-container-id-2 pre{padding: 0;}#sk-container-id-2 div.sk-toggleable {background-color: white;}#sk-container-id-2 label.sk-toggleable__label {cursor: pointer;display: block;width: 100%;margin-bottom: 0;padding: 0.3em;box-sizing: border-box;text-align: center;}#sk-container-id-2 label.sk-toggleable__label-arrow:before {content: \"▸\";float: left;margin-right: 0.25em;color: #696969;}#sk-container-id-2 label.sk-toggleable__label-arrow:hover:before {color: black;}#sk-container-id-2 div.sk-estimator:hover label.sk-toggleable__label-arrow:before {color: black;}#sk-container-id-2 div.sk-toggleable__content {max-height: 0;max-width: 0;overflow: hidden;text-align: left;background-color: #f0f8ff;}#sk-container-id-2 div.sk-toggleable__content pre {margin: 0.2em;color: black;border-radius: 0.25em;background-color: #f0f8ff;}#sk-container-id-2 input.sk-toggleable__control:checked~div.sk-toggleable__content {max-height: 200px;max-width: 100%;overflow: auto;}#sk-container-id-2 input.sk-toggleable__control:checked~label.sk-toggleable__label-arrow:before {content: \"▾\";}#sk-container-id-2 div.sk-estimator input.sk-toggleable__control:checked~label.sk-toggleable__label {background-color: #d4ebff;}#sk-container-id-2 div.sk-label input.sk-toggleable__control:checked~label.sk-toggleable__label {background-color: #d4ebff;}#sk-container-id-2 input.sk-hidden--visually {border: 0;clip: rect(1px 1px 1px 1px);clip: rect(1px, 1px, 1px, 1px);height: 1px;margin: -1px;overflow: hidden;padding: 0;position: absolute;width: 1px;}#sk-container-id-2 div.sk-estimator {font-family: monospace;background-color: #f0f8ff;border: 1px dotted black;border-radius: 0.25em;box-sizing: border-box;margin-bottom: 0.5em;}#sk-container-id-2 div.sk-estimator:hover {background-color: #d4ebff;}#sk-container-id-2 div.sk-parallel-item::after {content: \"\";width: 100%;border-bottom: 1px solid gray;flex-grow: 1;}#sk-container-id-2 div.sk-label:hover label.sk-toggleable__label {background-color: #d4ebff;}#sk-container-id-2 div.sk-serial::before {content: \"\";position: absolute;border-left: 1px solid gray;box-sizing: border-box;top: 0;bottom: 0;left: 50%;z-index: 0;}#sk-container-id-2 div.sk-serial {display: flex;flex-direction: column;align-items: center;background-color: white;padding-right: 0.2em;padding-left: 0.2em;position: relative;}#sk-container-id-2 div.sk-item {position: relative;z-index: 1;}#sk-container-id-2 div.sk-parallel {display: flex;align-items: stretch;justify-content: center;background-color: white;position: relative;}#sk-container-id-2 div.sk-item::before, #sk-container-id-2 div.sk-parallel-item::before {content: \"\";position: absolute;border-left: 1px solid gray;box-sizing: border-box;top: 0;bottom: 0;left: 50%;z-index: -1;}#sk-container-id-2 div.sk-parallel-item {display: flex;flex-direction: column;z-index: 1;position: relative;background-color: white;}#sk-container-id-2 div.sk-parallel-item:first-child::after {align-self: flex-end;width: 50%;}#sk-container-id-2 div.sk-parallel-item:last-child::after {align-self: flex-start;width: 50%;}#sk-container-id-2 div.sk-parallel-item:only-child::after {width: 0;}#sk-container-id-2 div.sk-dashed-wrapped {border: 1px dashed gray;margin: 0 0.4em 0.5em 0.4em;box-sizing: border-box;padding-bottom: 0.4em;background-color: white;}#sk-container-id-2 div.sk-label label {font-family: monospace;font-weight: bold;display: inline-block;line-height: 1.2em;}#sk-container-id-2 div.sk-label-container {text-align: center;}#sk-container-id-2 div.sk-container {/* jupyter's `normalize.less` sets `[hidden] { display: none; }` but bootstrap.min.css set `[hidden] { display: none !important; }` so we also need the `!important` here to be able to override the default hidden behavior on the sphinx rendered scikit-learn.org. See: https://github.com/scikit-learn/scikit-learn/issues/21755 */display: inline-block !important;position: relative;}#sk-container-id-2 div.sk-text-repr-fallback {display: none;}</style><div id=\"sk-container-id-2\" class=\"sk-top-container\"><div class=\"sk-text-repr-fallback\"><pre>GradientBoostingClassifier()</pre><b>In a Jupyter environment, please rerun this cell to show the HTML representation or trust the notebook. <br />On GitHub, the HTML representation is unable to render, please try loading this page with nbviewer.org.</b></div><div class=\"sk-container\" hidden><div class=\"sk-item\"><div class=\"sk-estimator sk-toggleable\"><input class=\"sk-toggleable__control sk-hidden--visually\" id=\"sk-estimator-id-2\" type=\"checkbox\" checked><label for=\"sk-estimator-id-2\" class=\"sk-toggleable__label sk-toggleable__label-arrow\">GradientBoostingClassifier</label><div class=\"sk-toggleable__content\"><pre>GradientBoostingClassifier()</pre></div></div></div></div></div>"
      ],
      "text/plain": [
       "GradientBoostingClassifier()"
      ]
     },
     "execution_count": 73,
     "metadata": {},
     "output_type": "execute_result"
    }
   ],
   "source": [
    "# taining the model  \n",
    "log_reg.fit(x_train,y_train)\n",
    "dec_tree.fit(x_train,y_train)\n",
    "gb_clf.fit(x_train,y_train)"
   ]
  },
  {
   "cell_type": "code",
   "execution_count": 74,
   "id": "bea53da4",
   "metadata": {},
   "outputs": [],
   "source": [
    "# creating a prediction file for all the modes\n",
    "log_pred = log_reg.predict(x_test)\n",
    "dec_pred = dec_tree.predict(x_test)\n",
    "gb_pred = gb_clf.predict(x_test)"
   ]
  },
  {
   "cell_type": "code",
   "execution_count": 75,
   "id": "97af18a3",
   "metadata": {},
   "outputs": [
    {
     "data": {
      "text/plain": [
       "array(['retained', 'retained', 'retained', ..., 'retained', 'retained',\n",
       "       'retained'], dtype=object)"
      ]
     },
     "execution_count": 75,
     "metadata": {},
     "output_type": "execute_result"
    }
   ],
   "source": [
    "log_pred"
   ]
  },
  {
   "cell_type": "code",
   "execution_count": 76,
   "id": "f9e68ecd",
   "metadata": {},
   "outputs": [
    {
     "data": {
      "text/plain": [
       "array(['retained', 'churned', 'retained', ..., 'retained', 'retained',\n",
       "       'churned'], dtype=object)"
      ]
     },
     "execution_count": 76,
     "metadata": {},
     "output_type": "execute_result"
    }
   ],
   "source": [
    "dec_pred"
   ]
  },
  {
   "cell_type": "code",
   "execution_count": 77,
   "id": "f3125729",
   "metadata": {},
   "outputs": [
    {
     "data": {
      "text/plain": [
       "array(['retained', 'retained', 'retained', ..., 'retained', 'retained',\n",
       "       'retained'], dtype=object)"
      ]
     },
     "execution_count": 77,
     "metadata": {},
     "output_type": "execute_result"
    }
   ],
   "source": [
    "gb_pred"
   ]
  },
  {
   "cell_type": "markdown",
   "id": "9e7099cd",
   "metadata": {},
   "source": [
    "## Phase 3\n",
    "- model evaluation and interpretation phase\n",
    "- metrics to use for classification problems\n",
    " >confusion matrix, \n",
    " >classification report"
   ]
  },
  {
   "cell_type": "code",
   "execution_count": 78,
   "id": "ca93c5e7",
   "metadata": {},
   "outputs": [],
   "source": [
    "# importing evaluation metrics\n",
    "from sklearn.metrics import classification_report, confusion_matrix"
   ]
  },
  {
   "cell_type": "code",
   "execution_count": 79,
   "id": "40e266bf",
   "metadata": {},
   "outputs": [],
   "source": [
    "def confusion_matrix_sklearn(model, predictors, target):\n",
    "    \"\"\"\n",
    "    To plot the confusion_matrix with percentages\n",
    "\n",
    "    model: classifier\n",
    "    predictors: independent variables\n",
    "    target: dependent variable\n",
    "    \"\"\"\n",
    "    y_pred = model.predict(predictors)\n",
    "    cm = confusion_matrix(target, y_pred)\n",
    "    labels = np.asarray(\n",
    "        [\n",
    "            [\"{0:0.0f}\".format(item) + \"\\n{0:.2%}\".format(item / cm.flatten().sum())]\n",
    "            for item in cm.flatten()\n",
    "        ]\n",
    "    ).reshape(2, 2)\n",
    "\n",
    "    plt.figure(figsize=(6, 4))\n",
    "    sns.heatmap(cm, annot=labels, fmt=\"\")\n",
    "    plt.ylabel(\"True label\")\n",
    "    plt.xlabel(\"Predicted label\")"
   ]
  },
  {
   "cell_type": "code",
   "execution_count": 80,
   "id": "60f86f16",
   "metadata": {},
   "outputs": [
    {
     "name": "stdout",
     "output_type": "stream",
     "text": [
      "classification report for the  logistic regression model \n",
      "               precision    recall  f1-score   support\n",
      "\n",
      "     churned       0.52      0.07      0.12       778\n",
      "    retained       0.83      0.99      0.90      3512\n",
      "\n",
      "    accuracy                           0.82      4290\n",
      "   macro avg       0.68      0.53      0.51      4290\n",
      "weighted avg       0.77      0.82      0.76      4290\n",
      "\n"
     ]
    }
   ],
   "source": [
    "# classification_report\n",
    "print('classification report for the  logistic regression model \\n', classification_report(y_test, log_pred))"
   ]
  },
  {
   "cell_type": "code",
   "execution_count": 81,
   "id": "c3658a55",
   "metadata": {},
   "outputs": [
    {
     "data": {
      "image/png": "[encoded data removed]",
      "text/plain": [
       "<Figure size 600x400 with 2 Axes>"
      ]
     },
     "metadata": {},
     "output_type": "display_data"
    }
   ],
   "source": [
    "confusion_matrix_sklearn(log_reg,x_test,y_test)"
   ]
  },
  {
   "cell_type": "code",
   "execution_count": 82,
   "id": "adbe2015",
   "metadata": {},
   "outputs": [
    {
     "name": "stdout",
     "output_type": "stream",
     "text": [
      "classification report for the decision tree model \n",
      "               precision    recall  f1-score   support\n",
      "\n",
      "     churned       0.26      0.27      0.26       778\n",
      "    retained       0.84      0.83      0.83      3512\n",
      "\n",
      "    accuracy                           0.73      4290\n",
      "   macro avg       0.55      0.55      0.55      4290\n",
      "weighted avg       0.73      0.73      0.73      4290\n",
      "\n"
     ]
    }
   ],
   "source": [
    "print(\"classification report for the decision tree model \\n\",classification_report(y_test,dec_pred))"
   ]
  },
  {
   "cell_type": "code",
   "execution_count": 83,
   "id": "b0a6c6d0",
   "metadata": {},
   "outputs": [
    {
     "data": {
      "image/png": "[encoded data removed]",
      "text/plain": [
       "<Figure size 600x400 with 2 Axes>"
      ]
     },
     "metadata": {},
     "output_type": "display_data"
    }
   ],
   "source": [
    "confusion_matrix_sklearn(dec_tree,x_test,y_test)"
   ]
  },
  {
   "cell_type": "code",
   "execution_count": 84,
   "id": "67fc691b",
   "metadata": {},
   "outputs": [
    {
     "name": "stdout",
     "output_type": "stream",
     "text": [
      "classification report for the Gradient Boosting model \n",
      "               precision    recall  f1-score   support\n",
      "\n",
      "     churned       0.50      0.08      0.13       778\n",
      "    retained       0.83      0.98      0.90      3512\n",
      "\n",
      "    accuracy                           0.82      4290\n",
      "   macro avg       0.67      0.53      0.52      4290\n",
      "weighted avg       0.77      0.82      0.76      4290\n",
      "\n"
     ]
    }
   ],
   "source": [
    "print(\"classification report for the Gradient Boosting model \\n\",classification_report(y_test,gb_pred))"
   ]
  },
  {
   "cell_type": "code",
   "execution_count": 85,
   "id": "de480c62",
   "metadata": {},
   "outputs": [
    {
     "data": {
      "image/png": "[encoded data removed]",
      "text/plain": [
       "<Figure size 600x400 with 2 Axes>"
      ]
     },
     "metadata": {},
     "output_type": "display_data"
    }
   ],
   "source": [
    "confusion_matrix_sklearn(gb_clf,x_test,y_test)"
   ]
  },
  {
   "cell_type": "markdown",
   "id": "7224125d",
   "metadata": {},
   "source": [
    "# Interpret and compare the 3 models\n",
    "The classification reports provide a comprehensive evaluation of the performance of three different models (Logistic Regression, Decision Tree, and Gradient Boosting) on a binary classification task. Here's an interpretation and comparison of the results:\n",
    "## Logistic Regression Model:\n",
    "- Precision: Precision for the 'churned' class is low (0.52), indicating that when the model predicts a customer will churn, it is correct about 52% of the time. On the other hand, the precision for the 'retained' class is high (0.83).\n",
    "- Recall: Recall for the 'churned' class is very low (0.07), suggesting that the model misses a significant number of actual churned customers. However, recall for the 'retained' class is high (0.99), indicating that the model effectively captures the majority of retained customers.\n",
    "- F1-Score: The F1-score is a harmonic mean of precision and recall. The F1-score for 'churned' is low (0.12), reflecting the trade-off between precision and recall. The F1-score for 'retained' is high (0.90), indicating a good balance between precision and recall.\n",
    "- Accuracy: Overall accuracy is 82%, meaning the model correctly predicts the class for 82% of instances.\n",
    "## Decision Tree Model:\n",
    "- Precision: Precision for the 'churned' class is relatively low (0.27), and precision for the 'retained' class is high (0.84).\n",
    "- Recall: Recall for both classes is similar, with 'churned' at 0.28 and 'retained' at 0.84.\n",
    "- F1-Score: The F1-score for 'churned' is moderate (0.28), and for 'retained' is high (0.84).\n",
    "- Accuracy: Overall accuracy is 73%, which is lower than the Logistic Regression model.\n",
    "## Gradient Boosting Model:\n",
    "- Precision: Precision for the 'churned' class is similar to Logistic Regression (0.52), and precision for the 'retained' class is high (0.83).\n",
    "- Recall: Recall for 'churned' is low (0.08), similar to Logistic Regression, while recall for 'retained' is high (0.98), similar to the Logistic Regression model.\n",
    "- F1-Score: The F1-score for 'churned' is low (0.13), and for 'retained' is high (0.90).\n",
    "- Accuracy: Overall accuracy is 82%, matching the Logistic Regression model.\n",
    "## Comparison:\n",
    "- The Decision Tree model generally performs the worst, with lower precision, recall, and accuracy compared to Logistic Regression and Gradient Boosting.\n",
    "- Logistic Regression and Gradient Boosting models show similar performance, with high precision and recall for the 'retained' class and lower values for the 'churned' class.\n",
    "- Accuracy is higher for Logistic Regression and Gradient Boosting compared to the Decision Tree.\n",
    "## Business Recommendations and Conclusions:\n",
    "- If the goal is to prioritize precision for predicting customer churn, further tuning and evaluation may be necessary, as both Logistic Regression and Gradient Boosting models have relatively low precision for the 'churned' class.\n",
    "- The Decision Tree model might need improvement, and its overall lower accuracy suggests it may not be the best choice for this specific task.\n"
   ]
  },
  {
   "cell_type": "markdown",
   "id": "e68b3a9e",
   "metadata": {},
   "source": [
    "# Phase 4: \n",
    "## Hyperparameter Optimization and Productionizing Our Model\n",
    "- hyperparameter optimization is the art and science of improving our model's performances. think of hyperparameter optimization as some configurations, or settings you can implemement or tweak that can improve your model's performance.\n",
    "\n",
    "- this is the last stage of the machine learning pipeline, and the main aim here points to how the users use/consume the model. there are alot of ways an ML Model can be used\n",
    "\n",
    "- it can be embedded into an application to be used by users online via an API on web interfaces or on mobile devices It can be used to create reports or dashboards that will be used by the organisation in making key business decisions it can be consumed via streaming or batch methods\n",
    "\n",
    "In this case scenario, we will simulate the use of the model on a new dataset and use it to make relevant predictions"
   ]
  },
  {
   "cell_type": "code",
   "execution_count": 92,
   "id": "7b347e2b",
   "metadata": {},
   "outputs": [],
   "source": [
    "# hyperparameter optimization\n",
    "from sklearn.model_selection import GridSearchCV\n",
    "from sklearn.metrics import make_scorer,r2_score\n",
    "import random"
   ]
  },
  {
   "cell_type": "code",
   "execution_count": 41,
   "id": "8aff3a92",
   "metadata": {},
   "outputs": [
    {
     "name": "stdout",
     "output_type": "stream",
     "text": [
      "3rd Best params combination: {'ccp_alpha': 0.2, 'criterion': 'entropy', 'max_depth': 5, 'max_features': 'sqrt'} \n",
      "\n"
     ]
    }
   ],
   "source": [
    "\n",
    "\"\"\"\"\n",
    "from sklearn.tree import DecisionTreeClassifier\n",
    "from sklearn.model_selection import GridSearchCV\n",
    "import numpy as np\n",
    "\n",
    "import warnings \n",
    "warnings.filterwarnings('ignore')\n",
    "\n",
    "\n",
    "opt_model = DecisionTreeClassifier()\n",
    "\n",
    "params = {\n",
    "    'ccp_alpha': np.arange(0, 1, 0.2).tolist(),\n",
    "    'criterion': ['entropy', 'gini'],\n",
    "    'max_depth': [5, 9, 12, 10, 15, 25, 50],\n",
    "    'max_features': ['auto', 'sqrt', 'log2']\n",
    "}\n",
    "\n",
    "# Use GridSearchCV to find the best parameters\n",
    "grid_search = GridSearchCV(opt_model, params, scoring='accuracy', cv=3, return_train_score=True, refit=True)\n",
    "grid_search.fit(x_train, y_train)\n",
    "\n",
    "# Print the best parameters\n",
    "print(\"3rd Best params combination:\", grid_search.best_params_, \"\\n\");\n",
    "\"\"\"\""
   ]
  },
  {
   "cell_type": "code",
   "execution_count": 45,
   "id": "c25e5fd7",
   "metadata": {},
   "outputs": [
    {
     "name": "stdout",
     "output_type": "stream",
     "text": [
      "2nd Best params combination: {'criterion': 'friedman_mse', 'learning_rate': 0.2, 'max_depth': 3, 'max_features': 'log2', 'n_estimators': 50, 'subsample': 0.8} \n",
      "\n"
     ]
    }
   ],
   "source": [
    "\"\"\"\"\n",
    "from sklearn.ensemble import GradientBoostingClassifier\n",
    "from sklearn.model_selection import GridSearchCV\n",
    "import numpy as np\n",
    "\n",
    "import warnings \n",
    "warnings.filterwarnings('ignore')\n",
    "\n",
    "opt_model = GradientBoostingClassifier()\n",
    "\n",
    "params = {\n",
    "    'n_estimators': [50, 100, 150],  # Number of boosting stages to be run\n",
    "    'learning_rate': [0.01, 0.1, 0.2],  # Step size shrinkage to prevent overfitting\n",
    "    'max_depth': [3, 5, 7],  # Maximum depth of the individual trees\n",
    "    'subsample': [0.8, 1.0],  # Fraction of samples used for fitting the trees\n",
    "    'criterion': ['friedman_mse', 'mse'],  # Loss function to be optimized\n",
    "    'max_features': ['auto', 'sqrt', 'log2']  # Maximum number of features to consider for a split\n",
    "}\n",
    "\n",
    "# Use GridSearchCV to find the best parameters\n",
    "grid_search = GridSearchCV(opt_model, params, scoring='accuracy', cv=3, return_train_score=True, refit=True)\n",
    "grid_search.fit(x_train, y_train)\n",
    "\n",
    "# Print the best parameters\n",
    "print(\"2nd Best params combination:\", grid_search.best_params_, \"\\n\")\n",
    "\"\"\"\""
   ]
  },
  {
   "cell_type": "code",
   "execution_count": 106,
   "id": "827ac6fd",
   "metadata": {},
   "outputs": [
    {
     "name": "stdout",
     "output_type": "stream",
     "text": [
      "Ist Best params combination: {'C': 1, 'max_iter': 300, 'penalty': 'l1', 'solver': 'liblinear'} \n",
      "\n"
     ]
    }
   ],
   "source": [
    "from sklearn.linear_model import LogisticRegression \n",
    "from sklearn.model_selection import GridSearchCV\n",
    "import numpy as np\n",
    "\n",
    "import warnings \n",
    "warnings.filterwarnings('ignore')\n",
    "\n",
    "opt_model = LogisticRegression()\n",
    "\n",
    "params = {\n",
    "    'C': [0.001, 0.01, 0.1, 1, 10, 100],  # Regularization parameter\n",
    "    'penalty': ['l1', 'l2'],  # Regularization type\n",
    "    'max_iter': [100, 200, 300],  # Maximum number of iterations\n",
    "    'solver': ['liblinear'],  # Solver for optimization\n",
    "}\n",
    "\n",
    "# Use GridSearchCV to find the best parameters\n",
    "grid_search = GridSearchCV(opt_model, params, scoring='accuracy', cv=3, return_train_score=True, refit=True)\n",
    "grid_search.fit(x_train, y_train)\n",
    "\n",
    "# Print the best parameters\n",
    "print(\"Ist Best params combination:\", grid_search.best_params_, \"\\n\")"
   ]
  },
  {
   "cell_type": "code",
   "execution_count": 108,
   "id": "395f320c",
   "metadata": {},
   "outputs": [
    {
     "data": {
      "text/plain": [
       "array(['retained', 'retained', 'retained', ..., 'retained', 'retained',\n",
       "       'retained'], dtype=object)"
      ]
     },
     "execution_count": 108,
     "metadata": {},
     "output_type": "execute_result"
    }
   ],
   "source": [
    "#measuring performance on evaluation set\n",
    "best_model = grid_search.best_estimator_\n",
    "best_pred = best_model.predict(x_test)\n",
    "best_pred"
   ]
  },
  {
   "cell_type": "code",
   "execution_count": 109,
   "id": "231f551e",
   "metadata": {},
   "outputs": [
    {
     "name": "stdout",
     "output_type": "stream",
     "text": [
      "classification report for optimzed decision tree model \n",
      "               precision    recall  f1-score   support\n",
      "\n",
      "     churned       0.52      0.07      0.12       778\n",
      "    retained       0.83      0.99      0.90      3512\n",
      "\n",
      "    accuracy                           0.82      4290\n",
      "   macro avg       0.67      0.53      0.51      4290\n",
      "weighted avg       0.77      0.82      0.76      4290\n",
      "\n"
     ]
    }
   ],
   "source": [
    "print(\"classification report for optimzed decision tree model \\n\",classification_report(y_test,best_pred))"
   ]
  },
  {
   "cell_type": "code",
   "execution_count": 110,
   "id": "e83fe690",
   "metadata": {},
   "outputs": [
    {
     "data": {
      "image/png": "[encoded data removed]",
      "text/plain": [
       "<Figure size 600x400 with 2 Axes>"
      ]
     },
     "metadata": {},
     "output_type": "display_data"
    }
   ],
   "source": [
    "confusion_matrix_sklearn(best_model,x_test,y_test)"
   ]
  },
  {
   "cell_type": "code",
   "execution_count": 111,
   "id": "b51683f8",
   "metadata": {},
   "outputs": [
    {
     "data": {
      "text/plain": [
       "['./dec_model.pkl']"
      ]
     },
     "execution_count": 111,
     "metadata": {},
     "output_type": "execute_result"
    }
   ],
   "source": [
    "#Productionizing models\n",
    "import joblib\n",
    "\n",
    "filename = './dec_model.pkl'\n",
    "joblib.dump(log_reg,filename)"
   ]
  },
  {
   "cell_type": "code",
   "execution_count": null,
   "id": "3ed4ea7e",
   "metadata": {},
   "outputs": [],
   "source": []
  }
 ],
 "metadata": {
  "kernelspec": {
   "display_name": "Python 3 (ipykernel)",
   "language": "python",
   "name": "python3"
  },
  "language_info": {
   "codemirror_mode": {
    "name": "ipython",
    "version": 3
   },
   "file_extension": ".py",
   "mimetype": "text/x-python",
   "name": "python",
   "nbconvert_exporter": "python",
   "pygments_lexer": "ipython3",
   "version": "3.11.4"
  }
 },
 "nbformat": 4,
 "nbformat_minor": 5
}
